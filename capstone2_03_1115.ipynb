{
  "nbformat": 4,
  "nbformat_minor": 0,
  "metadata": {
    "colab": {
      "name": "capstone2_03_1115",
      "provenance": [],
      "collapsed_sections": []
    },
    "kernelspec": {
      "display_name": "Python 3",
      "name": "python3"
    },
    "language_info": {
      "name": "python"
    }
  },
  "cells": [
    {
      "cell_type": "code",
      "metadata": {
        "colab": {
          "base_uri": "https://localhost:8080/"
        },
        "id": "KNKnUG2FHTTn",
        "outputId": "60c56ab1-598a-417d-c472-bb2a11a5bd00"
      },
      "source": [
        "!pip install -U imbalanced-learn"
      ],
      "execution_count": 14,
      "outputs": [
        {
          "output_type": "stream",
          "name": "stdout",
          "text": [
            "Requirement already satisfied: imbalanced-learn in /usr/local/lib/python3.7/dist-packages (0.8.1)\n",
            "Requirement already satisfied: scipy>=0.19.1 in /usr/local/lib/python3.7/dist-packages (from imbalanced-learn) (1.4.1)\n",
            "Requirement already satisfied: joblib>=0.11 in /usr/local/lib/python3.7/dist-packages (from imbalanced-learn) (1.1.0)\n",
            "Requirement already satisfied: numpy>=1.13.3 in /usr/local/lib/python3.7/dist-packages (from imbalanced-learn) (1.19.5)\n",
            "Requirement already satisfied: scikit-learn>=0.24 in /usr/local/lib/python3.7/dist-packages (from imbalanced-learn) (1.0.1)\n",
            "Requirement already satisfied: threadpoolctl>=2.0.0 in /usr/local/lib/python3.7/dist-packages (from scikit-learn>=0.24->imbalanced-learn) (3.0.0)\n"
          ]
        }
      ]
    },
    {
      "cell_type": "code",
      "metadata": {
        "id": "qphvgFt4cKmm"
      },
      "source": [
        "import pandas as pd"
      ],
      "execution_count": 15,
      "outputs": []
    },
    {
      "cell_type": "code",
      "metadata": {
        "colab": {
          "base_uri": "https://localhost:8080/",
          "height": 330
        },
        "id": "IF7kgnVcdD1X",
        "outputId": "f72b8a9f-b6af-43d3-f731-02a160275435"
      },
      "source": [
        "from google.colab import drive\n",
        "drive.mount('/content/drive')\n",
        "df = pd.read_csv('/content/drive/MyDrive/4-2/capstone2/creditcard.csv')\n",
        "df.Class.value_counts(normalize=True).plot(kind='bar')\n",
        "print(df.Class.value_counts(normalize=True)*100)\n",
        "import numpy as np\n",
        "from sklearn.datasets import fetch_lfw_people\n",
        "\n",
        "data = fetch_lfw_people()\n",
        "george_bush_id = 1871  # Photos of George W. Bush\n",
        "bill_clinton_id = 531  # Photos of Bill Clinton\n",
        "classes = [george_bush_id, bill_clinton_id]\n",
        "classes_name = np.array([\"B. Clinton\", \"G.W. Bush\"], dtype=np.object)\n",
        "mask_photos = np.isin(data.target, classes)\n",
        "X, y = data.data[mask_photos], data.target[mask_photos]\n",
        "y = (y == george_bush_id).astype(np.int8)"
      ],
      "execution_count": 29,
      "outputs": [
        {
          "output_type": "stream",
          "name": "stdout",
          "text": [
            "Drive already mounted at /content/drive; to attempt to forcibly remount, call drive.mount(\"/content/drive\", force_remount=True).\n",
            "0    99.827251\n",
            "1     0.172749\n",
            "Name: Class, dtype: float64\n"
          ]
        },
        {
          "output_type": "display_data",
          "data": {
            "image/png": "[encoded data removed]",
            "text/plain": [
              "<Figure size 432x288 with 1 Axes>"
            ]
          },
          "metadata": {
            "needs_background": "light"
          }
        }
      ]
    },
    {
      "cell_type": "code",
      "metadata": {
        "id": "6J_67Dd9dxcd"
      },
      "source": [
        "from sklearn.model_selection import train_test_split\n",
        "from sklearn.metrics import *\n",
        "from collections import Counter\n",
        "from matplotlib import pyplot\n",
        "import pandas as pd\n",
        "X_train, X_test, y_train, y_test = train_test_split(X,y,test_size=0.25,random_state=10)\n",
        "#모델링\n",
        "def modeling(model,x_train,x_test,y_train,y_test):\n",
        "    model.fit(x_train,y_train)\n",
        "    pred = model.predict(x_test)\n",
        "    metrics(y_test,pred)\n",
        "#평가 지표\n",
        "def metrics(y_test,pred):\n",
        "    accuracy = accuracy_score(y_test,pred)\n",
        "    precision = precision_score(y_test,pred)\n",
        "    recall = recall_score(y_test,pred)\n",
        "    f1 = f1_score(y_test,pred, average='macro')\n",
        "    roc_score = roc_auc_score(y_test,pred,average='macro')\n",
        "    print('정확도 : {0:.6f}, 정밀도 : {1:.6f}, 재현율 : {2:.6f}'.format(accuracy,precision,recall))\n",
        "    print('f1-score : {0:.6f}, auc : {1:.6f}'.format(f1,roc_score,recall))\n"
      ],
      "execution_count": 30,
      "outputs": []
    },
    {
      "cell_type": "code",
      "metadata": {
        "colab": {
          "base_uri": "https://localhost:8080/"
        },
        "id": "q2wlEmJ9f0Ub",
        "outputId": "e01d9575-0285-4363-9a63-3b4f0a722981"
      },
      "source": [
        "from sklearn.linear_model import LogisticRegression\n",
        "lr = LogisticRegression()\n",
        "lr = LogisticRegression(max_iter=1000)\n",
        "modeling(lr,X_train,X_test,y_train,y_test)"
      ],
      "execution_count": 31,
      "outputs": [
        {
          "output_type": "stream",
          "name": "stdout",
          "text": [
            "정확도 : 0.971429, 정밀도 : 0.977941, 재현율 : 0.992537\n",
            "f1-score : 0.792593, auc : 0.746269\n"
          ]
        }
      ]
    },
    {
      "cell_type": "code",
      "metadata": {
        "colab": {
          "base_uri": "https://localhost:8080/"
        },
        "id": "pB6HRjHPe3j7",
        "outputId": "b2ed71f3-62ec-4e41-d9bd-085f56ab8998"
      },
      "source": [
        "from imblearn.over_sampling import SMOTE \n",
        "from collections import Counter\n",
        "sm = SMOTE(random_state=25)\n",
        "X_res, y_res = sm.fit_resample(X, y)\n",
        "print(Counter(y_res))\n",
        "X_train, X_test, y_train, y_test = train_test_split(X_res,y_res,test_size=0.25,random_state=10)\n",
        "modeling(lr, X_train,X_test,y_train,y_test)"
      ],
      "execution_count": 42,
      "outputs": [
        {
          "output_type": "stream",
          "name": "stdout",
          "text": [
            "Counter({1: 530, 0: 530})\n",
            "정확도 : 0.996226, 정밀도 : 1.000000, 재현율 : 0.992366\n",
            "f1-score : 0.996226, auc : 0.996183\n"
          ]
        }
      ]
    },
    {
      "cell_type": "code",
      "metadata": {
        "id": "5xYj1lBkiNcC",
        "colab": {
          "base_uri": "https://localhost:8080/"
        },
        "outputId": "329a4336-8ca1-4279-d3e4-ccb961013fa8"
      },
      "source": [
        "from imblearn.over_sampling import BorderlineSMOTE\n",
        "from imblearn.over_sampling import SVMSMOTE\n",
        "lr = LogisticRegression(max_iter=10000)\n",
        "border_sm = BorderlineSMOTE(\n",
        "    sampling_strategy=0.5, \n",
        "    random_state=32)\n",
        "svm_sm = SVMSMOTE(random_state=43)\n",
        "X_border_sm1, y_border_sm1 = border_sm.fit_resample(X, y)\n",
        "X_border_sm2, y_border_sm2 = svm_sm.fit_resample(X_border_sm1, y_border_sm1)\n",
        "\n",
        "X_train, X_test, y_train, y_test = train_test_split(X_border_sm2, y_border_sm2,test_size=0.25,random_state=10)\n",
        "print('border_svm')\n",
        "modeling(lr, X_train,X_test,y_train,y_test)\n",
        "\n",
        "\n",
        "\n",
        "border_sm = BorderlineSMOTE(random_state=30)\n",
        "svm_sm= SVMSMOTE(sampling_strategy=0.5, random_state=20)\n",
        "X_res, y_res = svm_sm.fit_resample(X, y)\n",
        "X_sm_border, y_sm_border = border_sm.fit_resample(X_res, y_res)\n",
        "\n",
        "print('svm_border')\n",
        "X_train, X_test, y_train, y_test = train_test_split(X_sm_border, y_sm_border,test_size=0.25,random_state=10)\n",
        "modeling(lr, X_train,X_test,y_train,y_test)"
      ],
      "execution_count": 41,
      "outputs": [
        {
          "output_type": "stream",
          "name": "stdout",
          "text": [
            "border_svm\n",
            "정확도 : 0.996226, 정밀도 : 1.000000, 재현율 : 0.992366\n",
            "f1-score : 0.996226, auc : 0.996183\n",
            "svm_border\n",
            "정확도 : 0.992453, 정밀도 : 0.992366, 재현율 : 0.992366\n",
            "f1-score : 0.992452, auc : 0.992452\n"
          ]
        }
      ]
    },
    {
      "cell_type": "code",
      "metadata": {
        "id": "G6cLlKPvTiRa"
      },
      "source": [
        ""
      ],
      "execution_count": null,
      "outputs": []
    },
    {
      "cell_type": "code",
      "metadata": {
        "id": "mKFrTQm_OOnZ"
      },
      "source": [
        ""
      ],
      "execution_count": null,
      "outputs": []
    },
    {
      "cell_type": "code",
      "metadata": {
        "id": "wBCcJRKL_ioE"
      },
      "source": [
        ""
      ],
      "execution_count": null,
      "outputs": []
    }
  ]
}