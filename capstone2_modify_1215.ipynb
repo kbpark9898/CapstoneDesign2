{
  "nbformat": 4,
  "nbformat_minor": 0,
  "metadata": {
    "colab": {
      "name": "capstone2.ipynb",
      "provenance": [],
      "collapsed_sections": []
    },
    "kernelspec": {
      "display_name": "Python 3",
      "name": "python3"
    },
    "language_info": {
      "name": "python"
    }
  },
  "cells": [
    {
      "cell_type": "code",
      "metadata": {
        "id": "qphvgFt4cKmm"
      },
      "source": [
        "import pandas as pd"
      ],
      "execution_count": 1,
      "outputs": []
    },
    {
      "cell_type": "code",
      "metadata": {
        "colab": {
          "base_uri": "https://localhost:8080/",
          "height": 331
        },
        "id": "IF7kgnVcdD1X",
        "outputId": "119bc9d7-df06-4b4c-f40a-2e41e0e4586c"
      },
      "source": [
        "from google.colab import drive\n",
        "drive.mount('/content/drive')\n",
        "df = pd.read_csv('/content/drive/MyDrive/4-2/capstone2/creditcard.csv')\n",
        "df.Class.value_counts(normalize=True).plot(kind='bar')\n",
        "print(df.Class.value_counts(normalize=True)*100)"
      ],
      "execution_count": 2,
      "outputs": [
        {
          "output_type": "stream",
          "name": "stdout",
          "text": [
            "Drive already mounted at /content/drive; to attempt to forcibly remount, call drive.mount(\"/content/drive\", force_remount=True).\n",
            "0    99.827251\n",
            "1     0.172749\n",
            "Name: Class, dtype: float64\n"
          ]
        },
        {
          "output_type": "display_data",
          "data": {
            "image/png": "[encoded data removed]",
            "text/plain": [
              "<Figure size 432x288 with 1 Axes>"
            ]
          },
          "metadata": {
            "needs_background": "light"
          }
        }
      ]
    },
    {
      "cell_type": "code",
      "metadata": {
        "id": "6J_67Dd9dxcd"
      },
      "source": [
        "from sklearn.model_selection import train_test_split\n",
        "from sklearn.metrics import *\n",
        "X = df.iloc[:,:-1]\n",
        "y = df.iloc[:,-1]\n",
        "X_train, X_test, y_train, y_test = train_test_split(X,y,test_size=0.25,random_state=10)\n",
        "#모델링\n",
        "def modeling(model,x_train,x_test,y_train,y_test):\n",
        "    model.fit(x_train,y_train)\n",
        "    pred = model.predict(x_test)\n",
        "    metrics(y_test,pred)\n",
        "#평가 지표\n",
        "def metrics(y_test,pred):\n",
        "    accuracy = accuracy_score(y_test,pred)\n",
        "    precision = precision_score(y_test,pred)\n",
        "    recall = recall_score(y_test,pred)\n",
        "    f1 = f1_score(y_test,pred)\n",
        "    roc_score = roc_auc_score(y_test,pred,average='macro')\n",
        "    print('정확도 : {0:.6f}, 정밀도 : {1:.6f}, 재현율 : {2:.6f}'.format(accuracy,precision,recall))\n",
        "    print('f1-score : {0:.6f}, auc : {1:.6f}'.format(f1,roc_score,recall))"
      ],
      "execution_count": 3,
      "outputs": []
    },
    {
      "cell_type": "code",
      "metadata": {
        "colab": {
          "base_uri": "https://localhost:8080/"
        },
        "id": "tWcob6OQeC9p",
        "outputId": "afb21669-ca99-4d66-b5eb-33f57ec1459b"
      },
      "source": [
        "from lightgbm import LGBMClassifier\n",
        "lgb = LGBMClassifier(n_estimators=1000,num_leaves=64,n_jobs=-1,boost_from_average=False)\n",
        "modeling(lgb,X_train,X_test,y_train,y_test)"
      ],
      "execution_count": 4,
      "outputs": [
        {
          "output_type": "stream",
          "name": "stdout",
          "text": [
            "정확도 : 0.999635, 정밀도 : 0.952381, 재현율 : 0.826446\n",
            "f1-score : 0.884956, auc : 0.913188\n"
          ]
        }
      ]
    },
    {
      "cell_type": "code",
      "source": [
        "from imblearn.over_sampling import SMOTE\n",
        "from sklearn.linear_model import LogisticRegression\n",
        "lr = LogisticRegression(max_iter=10000)\n",
        "sm = SMOTE(random_state=42)\n",
        "X_res, y_res = sm.fit_resample(X, y)\n",
        "X_train, X_test, y_train, y_test = train_test_split(X_res, y_res,test_size=0.25,random_state=10)\n",
        "modeling(lr,X_train,X_test,y_train,y_test)"
      ],
      "metadata": {
        "colab": {
          "base_uri": "https://localhost:8080/"
        },
        "id": "8ikjMXxt_Zp4",
        "outputId": "c1a95908-a43f-46ce-d111-174204be2068"
      },
      "execution_count": 6,
      "outputs": [
        {
          "output_type": "stream",
          "name": "stdout",
          "text": [
            "정확도 : 0.957407, 정밀도 : 0.967014, 재현율 : 0.947107\n",
            "f1-score : 0.956957, auc : 0.957405\n"
          ]
        }
      ]
    },
    {
      "cell_type": "code",
      "metadata": {
        "id": "5xYj1lBkiNcC",
        "colab": {
          "base_uri": "https://localhost:8080/"
        },
        "outputId": "d313f84d-069b-47ef-eaeb-ada4e71fe142"
      },
      "source": [
        "from imblearn.over_sampling import BorderlineSMOTE \n",
        "from imblearn.over_sampling import SMOTE \n",
        "lr = LogisticRegression(max_iter=10000)\n",
        "sm = SMOTE(random_state=42)\n",
        "border_sm = BorderlineSMOTE(sampling_strategy=0.5,random_state=42)\n",
        "X_border_sm1, y_border_sm1 = border_sm.fit_resample(X, y)\n",
        "X_border_sm2, y_border_sm2 = sm.fit_resample(X_border_sm1, y_border_sm1)\n",
        "\n",
        "\n",
        "sm = SMOTE(sampling_strategy=0.5, random_state=42)\n",
        "X_res, y_res = sm.fit_resample(X, y)\n",
        "border_sm = BorderlineSMOTE(random_state=42)\n",
        "X_sm_border, y_sm_border = border_sm.fit_resample(X_res, y_res)\n",
        "\n",
        "X_train, X_test, y_train, y_test = train_test_split(X_border_sm2, y_border_sm2,test_size=0.25,random_state=10)\n",
        "print('border_sm')\n",
        "modeling(lr, X_train,X_test,y_train,y_test)\n",
        "\n",
        "print('sm_border')\n",
        "X_train, X_test, y_train, y_test = train_test_split(X_sm_border, y_sm_border,test_size=0.25,random_state=10)\n",
        "modeling(lr, X_train,X_test,y_train,y_test)"
      ],
      "execution_count": 10,
      "outputs": [
        {
          "output_type": "stream",
          "name": "stdout",
          "text": [
            "border_sm\n",
            "정확도 : 0.995238, 정밀도 : 0.993702, 재현율 : 0.996792\n",
            "f1-score : 0.995244, auc : 0.995238\n",
            "sm_border\n",
            "정확도 : 0.963991, 정밀도 : 0.974160, 재현율 : 0.953256\n",
            "f1-score : 0.963595, auc : 0.963989\n"
          ]
        }
      ]
    },
    {
      "cell_type": "code",
      "metadata": {
        "id": "wBCcJRKL_ioE"
      },
      "source": [
        ""
      ],
      "execution_count": null,
      "outputs": []
    }
  ]
}