{
  "nbformat": 4,
  "nbformat_minor": 0,
  "metadata": {
    "colab": {
      "name": "capstone2_02_1110",
      "provenance": [],
      "collapsed_sections": []
    },
    "kernelspec": {
      "display_name": "Python 3",
      "name": "python3"
    },
    "language_info": {
      "name": "python"
    }
  },
  "cells": [
    {
      "cell_type": "code",
      "metadata": {
        "colab": {
          "base_uri": "https://localhost:8080/",
          "height": 497
        },
        "id": "KNKnUG2FHTTn",
        "outputId": "9c3197d8-b901-45cb-85c4-c5a302784369"
      },
      "source": [
        "!pip install -U imbalanced-learn"
      ],
      "execution_count": 10,
      "outputs": [
        {
          "output_type": "stream",
          "name": "stdout",
          "text": [
            "Requirement already satisfied: imbalanced-learn in /usr/local/lib/python3.7/dist-packages (0.4.3)\n",
            "Collecting imbalanced-learn\n",
            "  Downloading imbalanced_learn-0.8.1-py3-none-any.whl (189 kB)\n",
            "\u001b[?25l\r\u001b[K     |█▊                              | 10 kB 21.7 MB/s eta 0:00:01\r\u001b[K     |███▌                            | 20 kB 27.5 MB/s eta 0:00:01\r\u001b[K     |█████▏                          | 30 kB 32.5 MB/s eta 0:00:01\r\u001b[K     |███████                         | 40 kB 32.9 MB/s eta 0:00:01\r\u001b[K     |████████▋                       | 51 kB 33.5 MB/s eta 0:00:01\r\u001b[K     |██████████▍                     | 61 kB 27.0 MB/s eta 0:00:01\r\u001b[K     |████████████                    | 71 kB 25.8 MB/s eta 0:00:01\r\u001b[K     |█████████████▉                  | 81 kB 26.9 MB/s eta 0:00:01\r\u001b[K     |███████████████▌                | 92 kB 26.5 MB/s eta 0:00:01\r\u001b[K     |█████████████████▎              | 102 kB 28.2 MB/s eta 0:00:01\r\u001b[K     |███████████████████             | 112 kB 28.2 MB/s eta 0:00:01\r\u001b[K     |████████████████████▊           | 122 kB 28.2 MB/s eta 0:00:01\r\u001b[K     |██████████████████████▌         | 133 kB 28.2 MB/s eta 0:00:01\r\u001b[K     |████████████████████████▏       | 143 kB 28.2 MB/s eta 0:00:01\r\u001b[K     |██████████████████████████      | 153 kB 28.2 MB/s eta 0:00:01\r\u001b[K     |███████████████████████████▋    | 163 kB 28.2 MB/s eta 0:00:01\r\u001b[K     |█████████████████████████████▍  | 174 kB 28.2 MB/s eta 0:00:01\r\u001b[K     |███████████████████████████████ | 184 kB 28.2 MB/s eta 0:00:01\r\u001b[K     |████████████████████████████████| 189 kB 28.2 MB/s \n",
            "\u001b[?25hRequirement already satisfied: joblib>=0.11 in /usr/local/lib/python3.7/dist-packages (from imbalanced-learn) (1.1.0)\n",
            "Collecting scikit-learn>=0.24\n",
            "  Downloading scikit_learn-1.0.1-cp37-cp37m-manylinux_2_12_x86_64.manylinux2010_x86_64.whl (23.2 MB)\n",
            "\u001b[K     |████████████████████████████████| 23.2 MB 2.1 MB/s \n",
            "\u001b[?25hRequirement already satisfied: scipy>=0.19.1 in /usr/local/lib/python3.7/dist-packages (from imbalanced-learn) (1.4.1)\n",
            "Requirement already satisfied: numpy>=1.13.3 in /usr/local/lib/python3.7/dist-packages (from imbalanced-learn) (1.19.5)\n",
            "Collecting threadpoolctl>=2.0.0\n",
            "  Downloading threadpoolctl-3.0.0-py3-none-any.whl (14 kB)\n",
            "Installing collected packages: threadpoolctl, scikit-learn, imbalanced-learn\n",
            "  Attempting uninstall: scikit-learn\n",
            "    Found existing installation: scikit-learn 0.22.2.post1\n",
            "    Uninstalling scikit-learn-0.22.2.post1:\n",
            "      Successfully uninstalled scikit-learn-0.22.2.post1\n",
            "  Attempting uninstall: imbalanced-learn\n",
            "    Found existing installation: imbalanced-learn 0.4.3\n",
            "    Uninstalling imbalanced-learn-0.4.3:\n",
            "      Successfully uninstalled imbalanced-learn-0.4.3\n",
            "Successfully installed imbalanced-learn-0.8.1 scikit-learn-1.0.1 threadpoolctl-3.0.0\n"
          ]
        },
        {
          "output_type": "display_data",
          "data": {
            "application/vnd.colab-display-data+json": {
              "pip_warning": {
                "packages": [
                  "imblearn",
                  "sklearn"
                ]
              }
            }
          },
          "metadata": {}
        }
      ]
    },
    {
      "cell_type": "code",
      "metadata": {
        "id": "qphvgFt4cKmm"
      },
      "source": [
        "import pandas as pd"
      ],
      "execution_count": 1,
      "outputs": []
    },
    {
      "cell_type": "code",
      "metadata": {
        "colab": {
          "base_uri": "https://localhost:8080/",
          "height": 367
        },
        "id": "IF7kgnVcdD1X",
        "outputId": "7e6b24e2-1d47-42fc-d7ed-51249a573fd7"
      },
      "source": [
        "from google.colab import drive\n",
        "drive.mount('/content/drive')\n",
        "df = pd.read_csv('/content/drive/MyDrive/4-2/capstone2/creditcard.csv')\n",
        "df.Class.value_counts(normalize=True).plot(kind='bar')\n",
        "print(df.Class.value_counts(normalize=True)*100)\n",
        "import numpy as np\n",
        "from sklearn.datasets import fetch_lfw_people\n",
        "\n",
        "data = fetch_lfw_people()\n",
        "george_bush_id = 1871  # Photos of George W. Bush\n",
        "bill_clinton_id = 531  # Photos of Bill Clinton\n",
        "classes = [george_bush_id, bill_clinton_id]\n",
        "classes_name = np.array([\"B. Clinton\", \"G.W. Bush\"], dtype=np.object)\n",
        "mask_photos = np.isin(data.target, classes)\n",
        "X, y = data.data[mask_photos], data.target[mask_photos]\n",
        "y = (y == george_bush_id).astype(np.int8)\n",
        "Counter(y)"
      ],
      "execution_count": 43,
      "outputs": [
        {
          "output_type": "stream",
          "name": "stdout",
          "text": [
            "Drive already mounted at /content/drive; to attempt to forcibly remount, call drive.mount(\"/content/drive\", force_remount=True).\n",
            "0    99.827251\n",
            "1     0.172749\n",
            "Name: Class, dtype: float64\n"
          ]
        },
        {
          "output_type": "execute_result",
          "data": {
            "text/plain": [
              "Counter({0: 29, 1: 530})"
            ]
          },
          "metadata": {},
          "execution_count": 43
        },
        {
          "output_type": "display_data",
          "data": {
            "image/png": "[encoded data removed]",
            "text/plain": [
              "<Figure size 432x288 with 1 Axes>"
            ]
          },
          "metadata": {
            "needs_background": "light"
          }
        }
      ]
    },
    {
      "cell_type": "code",
      "metadata": {
        "id": "6J_67Dd9dxcd"
      },
      "source": [
        "from sklearn.model_selection import train_test_split\n",
        "from sklearn.metrics import *\n",
        "from collections import Counter\n",
        "from matplotlib import pyplot\n",
        "import pandas as pd\n",
        "X_train, X_test, y_train, y_test = train_test_split(X,y,test_size=0.25,random_state=10)\n",
        "#모델링\n",
        "def modeling(model,x_train,x_test,y_train,y_test):\n",
        "    model.fit(x_train,y_train)\n",
        "    pred = model.predict(x_test)\n",
        "    metrics(y_test,pred)\n",
        "#평가 지표\n",
        "def metrics(y_test,pred):\n",
        "    accuracy = accuracy_score(y_test,pred)\n",
        "    precision = precision_score(y_test,pred)\n",
        "    recall = recall_score(y_test,pred)\n",
        "    f1 = f1_score(y_test,pred, average='macro')\n",
        "    roc_score = roc_auc_score(y_test,pred,average='macro')\n",
        "    print('정확도 : {0:.6f}, 정밀도 : {1:.6f}, 재현율 : {2:.6f}'.format(accuracy,precision,recall))\n",
        "    print('f1-score : {0:.6f}, auc : {1:.6f}'.format(f1,roc_score,recall))\n"
      ],
      "execution_count": 44,
      "outputs": []
    },
    {
      "cell_type": "code",
      "metadata": {
        "colab": {
          "base_uri": "https://localhost:8080/"
        },
        "id": "q2wlEmJ9f0Ub",
        "outputId": "5630e701-4d90-49b0-fdd5-391945df730a"
      },
      "source": [
        "from sklearn.linear_model import LogisticRegression\n",
        "lr = LogisticRegression()\n",
        "lr = LogisticRegression(max_iter=1000)\n",
        "modeling(lr,X_train,X_test,y_train,y_test)"
      ],
      "execution_count": 45,
      "outputs": [
        {
          "output_type": "stream",
          "name": "stdout",
          "text": [
            "정확도 : 0.971429, 정밀도 : 0.977941, 재현율 : 0.992537\n",
            "f1-score : 0.792593, auc : 0.746269\n"
          ]
        }
      ]
    },
    {
      "cell_type": "code",
      "metadata": {
        "colab": {
          "base_uri": "https://localhost:8080/"
        },
        "id": "pB6HRjHPe3j7",
        "outputId": "be9efe9f-571c-4811-c7e6-28289f72a63c"
      },
      "source": [
        "from imblearn.over_sampling import SMOTE \n",
        "from collections import Counter\n",
        "sm = SMOTE(random_state=42)\n",
        "X_res, y_res = sm.fit_resample(X, y)\n",
        "print(Counter(y_res))\n",
        "X_train, X_test, y_train, y_test = train_test_split(X_res,y_res,test_size=0.25,random_state=10)\n",
        "modeling(lr, X_train,X_test,y_train,y_test)"
      ],
      "execution_count": 46,
      "outputs": [
        {
          "output_type": "stream",
          "name": "stdout",
          "text": [
            "Counter({1: 530, 0: 530})\n",
            "정확도 : 0.996226, 정밀도 : 1.000000, 재현율 : 0.992366\n",
            "f1-score : 0.996226, auc : 0.996183\n"
          ]
        }
      ]
    },
    {
      "cell_type": "code",
      "metadata": {
        "id": "5xYj1lBkiNcC",
        "colab": {
          "base_uri": "https://localhost:8080/"
        },
        "outputId": "3b90d0f2-5e2d-4bd9-db84-01621ac41483"
      },
      "source": [
        "from imblearn.over_sampling import BorderlineSMOTE\n",
        "from imblearn.over_sampling import ADASYN\n",
        "lr = LogisticRegression(max_iter=10000)\n",
        "border_sm = BorderlineSMOTE(\n",
        "    sampling_strategy=0.5, \n",
        "    random_state=42)\n",
        "a = ADASYN(random_state=42)\n",
        "\n",
        "X_border_A1, y_border_A1 = border_sm.fit_resample(X, y)\n",
        "X_border_A2, y_border_A2 = a.fit_resample(X_border_A1, y_border_A1)\n",
        "\n",
        "X_train, X_test, y_train, y_test = train_test_split(X_border_A2, y_border_A2,test_size=0.25,random_state=10)\n",
        "print('border_a')\n",
        "modeling(lr, X_train,X_test,y_train,y_test)\n",
        "\n",
        "\n",
        "\n",
        "border_sm = BorderlineSMOTE(random_state=42)\n",
        "a = ADASYN(sampling_strategy=0.5, random_state=42)\n",
        "X_res, y_res = a.fit_resample(X, y)\n",
        "X_a_border, y_a_border = border_sm.fit_resample(X_res, y_res)\n",
        "\n",
        "print('a_border')\n",
        "X_train, X_test, y_train, y_test = train_test_split(X_a_border, y_a_border,test_size=0.25,random_state=10)\n",
        "modeling(lr, X_train,X_test,y_train,y_test)"
      ],
      "execution_count": 47,
      "outputs": [
        {
          "output_type": "stream",
          "name": "stdout",
          "text": [
            "border_a\n",
            "정확도 : 0.996241, 정밀도 : 1.000000, 재현율 : 0.992593\n",
            "f1-score : 0.996240, auc : 0.996296\n",
            "a_border\n",
            "정확도 : 0.994924, 정밀도 : 1.000000, 재현율 : 0.992308\n",
            "f1-score : 0.994366, auc : 0.996154\n"
          ]
        }
      ]
    },
    {
      "cell_type": "code",
      "metadata": {
        "id": "G6cLlKPvTiRa"
      },
      "source": [
        ""
      ],
      "execution_count": null,
      "outputs": []
    },
    {
      "cell_type": "code",
      "metadata": {
        "id": "mKFrTQm_OOnZ"
      },
      "source": [
        ""
      ],
      "execution_count": null,
      "outputs": []
    },
    {
      "cell_type": "code",
      "metadata": {
        "id": "wBCcJRKL_ioE"
      },
      "source": [
        ""
      ],
      "execution_count": null,
      "outputs": []
    }
  ]
}